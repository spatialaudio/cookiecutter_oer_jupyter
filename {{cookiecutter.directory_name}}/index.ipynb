{
 "cells": [
  {
   "cell_type": "markdown",
   "id": "fb56f342",
   "metadata": {
    "nbsphinx": "hidden"
   },
   "source": [
    "# {{cookiecutter.project_name}}\n",
    "\n",
    "This collection of [jupyter](https://jupyter.org/) notebooks introduces various topics of {{cookiecutter.project_name}}. The sources of the notebooks, as well as installation and usage instructions can be found on [GitHub]({{cookiecutter.git_remote}})."
   ]
  },
  {
   "cell_type": "markdown",
   "id": "6d79c94a",
   "metadata": {
    "nbsphinx-toctree": {
     "maxdepth": 3,
     "numbered": true
    }
   },
   "source": [
    "# 1. Introduction"
   ]
  },
  {
   "cell_type": "markdown",
   "id": "5e9ca7e8",
   "metadata": {
    "nbsphinx-toctree": {
     "maxdepth": 3,
     "numbered": true
    }
   },
   "source": [
    "* [Introduction](introduction/introduction.ipynb)"
   ]
  },
  {
   "cell_type": "code",
   "execution_count": null,
   "id": "38e7b1d4",
   "metadata": {},
   "outputs": [],
   "source": []
  },
  {
   "attachments": {},
   "cell_type": "markdown",
   "id": "2a00f18e",
   "metadata": {
    "nbsphinx": "hidden"},
   "source": [
    "**Copyright**\n",
    "\n",
    "The notebooks are provided as Open Educational Resources. Feel free to use the notebooks for your own purposes. \n",
    "{%- if cookiecutter.license == "Split" -%}\n",
    "The text is licensed under {{cookiecutter.license_text}}, the code of the IPython examples under the {{cookiecutter.license_code}} license.\n",
    "{%- elif cookiecutter.license == "Code" -%}\n",
    "The contents are licensed under the {{cookiecutter.license_code}} license.\n",
    "{%- elif cookiecutter.license == "Text" -%}\n",
    "The contents are licensed under the {{cookiecutter.license_text}} license.\n",
    "{% endif %}\n",
    "Please attribute the work as follows: {{cookiecutter.copyright_name}}, {{cookiecutter.project_name}}."
   ]
  }
 ],
 "metadata": {
  "kernelspec": {
   "display_name": "rtd",
   "language": "python",
   "name": "python3"
  },
  "language_info": {
   "codemirror_mode": {
    "name": "ipython",
    "version": 3
   },
   "file_extension": ".py",
   "mimetype": "text/x-python",
   "name": "python",
   "nbconvert_exporter": "python",
   "pygments_lexer": "ipython3",
   "version": "3.12.4 | packaged by Anaconda, Inc. | (main, Jun 18 2024, 10:14:12) [Clang 14.0.6 ]"
  },
  "vscode": {
   "interpreter": {
    "hash": "e4ef41d5121025c89593129eb97508b414456b3f1fb8b868c5418db83d158d98"
   }
  }
 },
 "nbformat": 4,
 "nbformat_minor": 5
}
