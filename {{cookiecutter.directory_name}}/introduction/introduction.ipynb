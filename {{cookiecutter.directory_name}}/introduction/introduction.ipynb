{
 "cells": [
  {
   "cell_type": "markdown",
   "id": "24d93243",
   "metadata": {
    "nbsphinx": "hidden"
   },
   "source": [
    "# Introduction\n",
    "\n",
    "*This jupyter notebook is part of a [collection of notebooks](../index.ipynb) on various topics of {{cookiecutter.project_name}}. Please direct questions and suggestions to [{{cookiecutter.contact_mail}}](mailto:{{cookiecutter.contact_mail}}).*"
   ]
  },
  {
   "cell_type": "markdown",
   "id": "225807ca",
   "metadata": {},
   "source": [
    "![example image](../data/example.png)"
   ]
  },
  {
   "cell_type": "code",
   "execution_count": null,
   "id": "8789c1db",
   "metadata": {},
   "outputs": [],
   "source": []
  },
  {
   "attachments": {},
   "cell_type": "markdown",
   "id": "2a00f18e",
   "metadata": {},
   "source": [
    "**Copyright**\n",
    "\n",
    "The notebooks are provided as Open Educational Resources. Feel free to use the notebooks for your own purposes. \n",
    "{%- if cookiecutter.license == "Split" -%}\n",
    "The text is licensed under {{cookiecutter.license_text}}, the code of the IPython examples under the {{cookiecutter.license_code}} license.\n",
    "{%- elif cookiecutter.license == "Code" -%}\n",
    "The contents are licensed under {{cookiecutter.license_code}}.\n",
    "{%- elif cookiecutter.license == "Text" -%}\n",
    "The contents are licensed under {{cookiecutter.license_text}}.\n",
    "{% endif %}\n",
    "Please attribute the work as follows: {{cookiecutter.copyright_name}}, {{cookiecutter.project_name}}."
   ]
  }
 ],
 "metadata": {
  "kernelspec": {
   "display_name": "rtd",
   "language": "python",
   "name": "python3"
  },
  "language_info": {
   "codemirror_mode": {
    "name": "ipython",
    "version": 3
   },
   "file_extension": ".py",
   "mimetype": "text/x-python",
   "name": "python",
   "nbconvert_exporter": "python",
   "pygments_lexer": "ipython3",
   "version": "3.12.4 | packaged by Anaconda, Inc. | (main, Jun 18 2024, 10:14:12) [Clang 14.0.6 ]"
  },
  "vscode": {
   "interpreter": {
    "hash": "e4ef41d5121025c89593129eb97508b414456b3f1fb8b868c5418db83d158d98"
   }
  }
 },
 "nbformat": 4,
 "nbformat_minor": 5
}
