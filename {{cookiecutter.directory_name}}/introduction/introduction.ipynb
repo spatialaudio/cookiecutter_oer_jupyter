{
 "cells": [
  {
   "cell_type": "markdown",
   "id": "24d93243",
   "metadata": {
    "nbsphinx": "hidden"
   },
   "source": [
    "# Introduction\n",
    "\n",
    "*This jupyter notebook is part of a [collection of notebooks](../index.ipynb) on various topics of {{cookiecutter.project_name}}. Please direct questions and suggestions to [{{cookiecutter.contact_mail}}](mailto:{{cookiecutter.contact_mail}}).*"
   ]
  },
  {
   "cell_type": "markdown",
   "id": "225807ca",
   "metadata": {},
   "source": [
    "![example image](../data/example.png)"
   ]
  },
  {
   "cell_type": "code",
   "execution_count": null,
   "id": "8789c1db",
   "metadata": {},
   "outputs": [],
   "source": []
  }
 ],
 "metadata": {
  "kernelspec": {
   "display_name": "Python 3 (ipykernel)",
   "language": "python",
   "name": "python3"
  },
  "language_info": {
   "codemirror_mode": {
    "name": "ipython",
    "version": 3
   },
   "file_extension": ".py",
   "mimetype": "text/x-python",
   "name": "python",
   "nbconvert_exporter": "python",
   "pygments_lexer": "ipython3",
   "version": "3.10.9"
  }
 },
 "nbformat": 4,
 "nbformat_minor": 5
}
